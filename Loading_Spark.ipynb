{
 "cells": [
  {
   "cell_type": "code",
   "execution_count": 2,
   "metadata": {},
   "outputs": [],
   "source": [
    "import axs\n",
    "import numpy as np\n",
    "\n",
    "%matplotlib notebook\n",
    "import matplotlib.pyplot as plt\n",
    "\n",
    "import os\n",
    "from pyspark.sql.functions import size as spark_size\n",
    "from pyspark.sql.types import ArrayType, DoubleType\n",
    "from pyspark.sql.functions import pandas_udf\n",
    "import pyspark.sql.functions as F\n",
    "\n",
    "import pandas as pd\n",
    "\n",
    "import cesium\n",
    "from cesium.time_series import TimeSeries\n",
    "from cesium.featurize import featurize_single_ts, featurize_time_series"
   ]
  },
  {
   "cell_type": "code",
   "execution_count": 3,
   "metadata": {},
   "outputs": [
    {
     "name": "stdout",
     "output_type": "stream",
     "text": [
      "suberlak\n"
     ]
    }
   ],
   "source": [
    "    def spark_start(project_path, metastore=None):\n",
    "        from pyspark.sql import SparkSession\n",
    "\n",
    "        warehouse_location = os.path.join(project_path, 'spark-warehouse')\n",
    "\n",
    "        local_dir = os.path.join(project_path, 'spark-tmp')\n",
    "\n",
    "        spark = ( \n",
    "                SparkSession.builder\n",
    "                .appName(\"LSD2\")\n",
    "                .config(\"spark.sql.warehouse.dir\", warehouse_location)\n",
    "                .config('spark.master', \"local[8]\")\n",
    "                .config('spark.driver.memory', '6G') \n",
    "                .config('spark.local.dir', local_dir)\n",
    "                .config('spark.memory.offHeap.enabled', 'true')\n",
    "                .config('spark.memory.offHeap.size', '4G')\n",
    "                .config(\"spark.sql.execution.arrow.enabled\", \"true\")\n",
    "                .config(\"spark.driver.maxResultSize\", \"6G\")\n",
    "                .config(\"spark.driver.extraJavaOptions\", f\"-Dderby.system.home={metastore}\")\n",
    "                .enableHiveSupport()\n",
    "                .getOrCreate()\n",
    "                        )   \n",
    "\n",
    "        return spark\n",
    "\n",
    "    import getpass\n",
    "    username = getpass.getuser()\n",
    "    print(username)\n",
    "    spark_session = spark_start(\"/epyc/users/\" + username)\n",
    "    db = axs.AxsCatalog(spark_session)"
   ]
  },
  {
   "cell_type": "code",
   "execution_count": 4,
   "metadata": {},
   "outputs": [
    {
     "data": {
      "text/html": [
       "\n",
       "            <div>\n",
       "                <p><b>SparkSession - hive</b></p>\n",
       "                \n",
       "        <div>\n",
       "            <p><b>SparkContext</b></p>\n",
       "\n",
       "            <p><a href=\"http://epyc.astro.washington.edu:4051\">Spark UI</a></p>\n",
       "\n",
       "            <dl>\n",
       "              <dt>Version</dt>\n",
       "                <dd><code>v2.4.0-SNAPSHOT</code></dd>\n",
       "              <dt>Master</dt>\n",
       "                <dd><code>local[8]</code></dd>\n",
       "              <dt>AppName</dt>\n",
       "                <dd><code>LSD2</code></dd>\n",
       "            </dl>\n",
       "        </div>\n",
       "        \n",
       "            </div>\n",
       "        "
      ],
      "text/plain": [
       "<pyspark.sql.session.SparkSession at 0x7efdff360f98>"
      ]
     },
     "execution_count": 4,
     "metadata": {},
     "output_type": "execute_result"
    }
   ],
   "source": [
    "spark_session"
   ]
  },
  {
   "cell_type": "code",
   "execution_count": 5,
   "metadata": {},
   "outputs": [
    {
     "data": {
      "text/plain": [
       "[Table(name='allwise_1am_dup', database='default', description=None, tableType='EXTERNAL', isTemporary=False),\n",
       " Table(name='demo_result', database='default', description=None, tableType='MANAGED', isTemporary=False),\n",
       " Table(name='gaia_dr2', database='default', description=None, tableType='MANAGED', isTemporary=False),\n",
       " Table(name='gaia_dr2_1am_dup', database='default', description=None, tableType='EXTERNAL', isTemporary=False),\n",
       " Table(name='gaia_dr2_700lc_new', database='default', description=None, tableType='MANAGED', isTemporary=False),\n",
       " Table(name='gaia_dr2_ebv', database='default', description=None, tableType='MANAGED', isTemporary=False),\n",
       " Table(name='gaia_dr2_sfd', database='default', description=None, tableType='MANAGED', isTemporary=False),\n",
       " Table(name='gaia_sdss_3asec', database='default', description=None, tableType='MANAGED', isTemporary=False),\n",
       " Table(name='gaia_sdss_wise_1asec', database='default', description=None, tableType='MANAGED', isTemporary=False),\n",
       " Table(name='gaia_zoned1am_hd', database='default', description=None, tableType='MANAGED', isTemporary=False),\n",
       " Table(name='sdss_dr9_qso_s82', database='default', description=None, tableType='MANAGED', isTemporary=False),\n",
       " Table(name='sdss_zoned1am_700lc', database='default', description=None, tableType='MANAGED', isTemporary=False),\n",
       " Table(name='sdss_zoned1am_hd', database='default', description=None, tableType='MANAGED', isTemporary=False),\n",
       " Table(name='sdss_zoned1am_hd_lc', database='default', description=None, tableType='MANAGED', isTemporary=False),\n",
       " Table(name='sdss_zoned1am_hd_ps', database='default', description=None, tableType='MANAGED', isTemporary=False),\n",
       " Table(name='sdss_ztf_dr9_qso', database='default', description=None, tableType='MANAGED', isTemporary=False),\n",
       " Table(name='sesar_rrlyrae', database='default', description=None, tableType='MANAGED', isTemporary=False),\n",
       " Table(name='ztf_1am', database='default', description=None, tableType='MANAGED', isTemporary=False),\n",
       " Table(name='ztf_1am_lc', database='default', description=None, tableType='MANAGED', isTemporary=False),\n",
       " Table(name='ztf_exposures', database='default', description=None, tableType='MANAGED', isTemporary=False),\n",
       " Table(name='ztf_fid1_sdss_stars_lt20_2asec', database='default', description=None, tableType='MANAGED', isTemporary=False),\n",
       " Table(name='ztf_fid2_sdss_stars_lt20_2asec', database='default', description=None, tableType='MANAGED', isTemporary=False),\n",
       " Table(name='ztf_fid3_sdss_stars_lt20_2asec', database='default', description=None, tableType='MANAGED', isTemporary=False),\n",
       " Table(name='ztf_lc_sdss_qso_dr9_2asec', database='default', description=None, tableType='MANAGED', isTemporary=False)]"
      ]
     },
     "execution_count": 5,
     "metadata": {},
     "output_type": "execute_result"
    }
   ],
   "source": [
    "spark_session.catalog.listTables()"
   ]
  },
  {
   "cell_type": "code",
   "execution_count": null,
   "metadata": {},
   "outputs": [],
   "source": [
    "exp = axs_catalog.load(\"ztf_exposures\")"
   ]
  },
  {
   "cell_type": "code",
   "execution_count": 6,
   "metadata": {},
   "outputs": [],
   "source": [
    "db = axs.AxsCatalog(spark_session)"
   ]
  },
  {
   "cell_type": "code",
   "execution_count": 7,
   "metadata": {},
   "outputs": [
    {
     "data": {
      "text/plain": [
       "{'allwise_1am_dup': {'bucket_col': 'zone',\n",
       "  'dec_col': 'dec',\n",
       "  'has_lightcurves': False,\n",
       "  'lc_columns': None,\n",
       "  'num_buckets': 500,\n",
       "  'ra_col': 'ra',\n",
       "  'table_id': 'allwise_1am_dup',\n",
       "  'table_name': 'allwise_1am_dup',\n",
       "  'zone_height': 0.0166666666},\n",
       " 'gaia_dr2_1am_dup': {'bucket_col': 'zone',\n",
       "  'dec_col': 'dec',\n",
       "  'has_lightcurves': False,\n",
       "  'lc_columns': None,\n",
       "  'num_buckets': 500,\n",
       "  'ra_col': 'ra',\n",
       "  'table_id': 'gaia_dr2_1am_dup',\n",
       "  'table_name': 'gaia_dr2_1am_dup',\n",
       "  'zone_height': 0.0166666666},\n",
       " 'gaia_dr2_700lc2': {'bucket_col': 'zone',\n",
       "  'dec_col': 'dec',\n",
       "  'has_lightcurves': False,\n",
       "  'lc_columns': None,\n",
       "  'num_buckets': 500,\n",
       "  'ra_col': 'ra',\n",
       "  'table_id': 'gaia_dr2_700lc2',\n",
       "  'table_name': 'gaia_dr2_700lc2',\n",
       "  'zone_height': 0.0166666666},\n",
       " 'gaia_sdss_3asec': {'bucket_col': 'zone',\n",
       "  'dec_col': 'dec',\n",
       "  'has_lightcurves': False,\n",
       "  'lc_columns': None,\n",
       "  'num_buckets': 500,\n",
       "  'ra_col': 'ra',\n",
       "  'table_id': 'gaia_sdss_3asec',\n",
       "  'table_name': 'gaia_sdss_3asec',\n",
       "  'zone_height': 0.0166666666},\n",
       " 'gaia_sdss_wise_1asec': {'bucket_col': 'zone',\n",
       "  'dec_col': 'dec',\n",
       "  'has_lightcurves': False,\n",
       "  'lc_columns': None,\n",
       "  'num_buckets': 500,\n",
       "  'ra_col': 'ra',\n",
       "  'table_id': 'gaia_sdss_wise_1asec',\n",
       "  'table_name': 'gaia_sdss_wise_1asec',\n",
       "  'zone_height': 0.0166666666},\n",
       " 'gaia_zoned1am_hd': {'bucket_col': 'zone',\n",
       "  'dec_col': 'dec',\n",
       "  'has_lightcurves': False,\n",
       "  'lc_columns': None,\n",
       "  'num_buckets': 500,\n",
       "  'ra_col': 'ra',\n",
       "  'table_id': 'gaia_zoned1am_hd',\n",
       "  'table_name': 'gaia_zoned1am_hd',\n",
       "  'zone_height': 0.0166666666},\n",
       " 'sdss_zoned1am_700lc': {'bucket_col': 'zone',\n",
       "  'dec_col': 'dec',\n",
       "  'has_lightcurves': False,\n",
       "  'lc_columns': None,\n",
       "  'num_buckets': 500,\n",
       "  'ra_col': 'ra',\n",
       "  'table_id': 'sdss_zoned1am_700lc',\n",
       "  'table_name': 'sdss_zoned1am_700lc',\n",
       "  'zone_height': 0.0166666666},\n",
       " 'sdss_zoned1am_hd': {'bucket_col': 'zone',\n",
       "  'dec_col': 'dec',\n",
       "  'has_lightcurves': False,\n",
       "  'lc_columns': None,\n",
       "  'num_buckets': 500,\n",
       "  'ra_col': 'ra',\n",
       "  'table_id': 'sdss_zoned1am_hd',\n",
       "  'table_name': 'sdss_zoned1am_hd',\n",
       "  'zone_height': 0.0166666666},\n",
       " 'sesar_rrlyrae': {'bucket_col': 'zone',\n",
       "  'dec_col': 'dec',\n",
       "  'has_lightcurves': False,\n",
       "  'lc_columns': JavaObject id=o143,\n",
       "  'num_buckets': 500,\n",
       "  'ra_col': 'ra',\n",
       "  'table_id': 'sesar_rrlyrae',\n",
       "  'table_name': 'sesar_rrlyrae',\n",
       "  'zone_height': 0.0166666666},\n",
       " 'ztf_1am': {'bucket_col': 'zone',\n",
       "  'dec_col': 'dec',\n",
       "  'has_lightcurves': False,\n",
       "  'lc_columns': JavaObject id=o139,\n",
       "  'num_buckets': 500,\n",
       "  'ra_col': 'ra',\n",
       "  'table_id': 'ztf_1am',\n",
       "  'table_name': 'ztf_1am',\n",
       "  'zone_height': 0.0166666666},\n",
       " 'ztf_1am_lc': {'bucket_col': 'zone',\n",
       "  'dec_col': 'dec',\n",
       "  'has_lightcurves': True,\n",
       "  'lc_columns': JavaObject id=o137,\n",
       "  'num_buckets': 500,\n",
       "  'ra_col': 'ra',\n",
       "  'table_id': 'ztf_1am_lc',\n",
       "  'table_name': 'ztf_1am_lc',\n",
       "  'zone_height': 0.0166666666},\n",
       " 'ztf_1am_old': {'bucket_col': 'zone',\n",
       "  'dec_col': 'dec',\n",
       "  'has_lightcurves': False,\n",
       "  'lc_columns': None,\n",
       "  'num_buckets': 500,\n",
       "  'ra_col': 'ra',\n",
       "  'table_id': 'ztf_1am_old',\n",
       "  'table_name': 'ztf_1am_old',\n",
       "  'zone_height': 0.0166666666},\n",
       " 'ztf_1am_test': {'bucket_col': 'zone',\n",
       "  'dec_col': 'dec',\n",
       "  'has_lightcurves': False,\n",
       "  'lc_columns': JavaObject id=o141,\n",
       "  'num_buckets': 500,\n",
       "  'ra_col': 'ra',\n",
       "  'table_id': 'ztf_1am_test',\n",
       "  'table_name': 'ztf_1am_test',\n",
       "  'zone_height': 0.0166666666}}"
      ]
     },
     "execution_count": 7,
     "metadata": {},
     "output_type": "execute_result"
    }
   ],
   "source": [
    "db.list_tables()"
   ]
  },
  {
   "cell_type": "markdown",
   "metadata": {},
   "source": [
    "why is my table not there anymore ??? "
   ]
  },
  {
   "cell_type": "code",
   "execution_count": null,
   "metadata": {},
   "outputs": [],
   "source": []
  }
 ],
 "metadata": {
  "kernelspec": {
   "display_name": "Python 3-AXS Spark",
   "language": "python",
   "name": "spark-smj"
  },
  "language_info": {
   "codemirror_mode": {
    "name": "ipython",
    "version": 3
   },
   "file_extension": ".py",
   "mimetype": "text/x-python",
   "name": "python",
   "nbconvert_exporter": "python",
   "pygments_lexer": "ipython3",
   "version": "3.6.4"
  }
 },
 "nbformat": 4,
 "nbformat_minor": 2
}
