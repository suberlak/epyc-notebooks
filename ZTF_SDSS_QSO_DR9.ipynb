{
 "cells": [
  {
   "cell_type": "code",
   "execution_count": 3,
   "metadata": {},
   "outputs": [],
   "source": [
    "%load_ext autoreload\n",
    "%autoreload 2"
   ]
  },
  {
   "cell_type": "markdown",
   "metadata": {},
   "source": [
    "In this notebook we ingest as an AXS Catalog the SDSS DR9 Quasar database,  and look for any ZTF observations for these objects."
   ]
  },
  {
   "cell_type": "markdown",
   "metadata": {},
   "source": [
    "### Connect to spark"
   ]
  },
  {
   "cell_type": "code",
   "execution_count": 4,
   "metadata": {},
   "outputs": [],
   "source": [
    "import pyspark\n",
    "spark = pyspark.sql.SparkSession.builder \\\n",
    "    .config('spark.master', \"local[8]\")\\\n",
    "    .config(\"spark.driver.memory\", \"6g\") \\\n",
    "    .config(\"spark.executor.memory\", \"16g\") \\\n",
    "    .config(\"spark.cores.max\", \"15\") \\\n",
    "    .config(\"spark.executor.cores\", \"1\") \\\n",
    "    .enableHiveSupport() \\\n",
    "    .getOrCreate()\n",
    "   "
   ]
  },
  {
   "cell_type": "markdown",
   "metadata": {},
   "source": [
    "See if everything is OK:"
   ]
  },
  {
   "cell_type": "code",
   "execution_count": 3,
   "metadata": {},
   "outputs": [
    {
     "data": {
      "text/html": [
       "\n",
       "            <div>\n",
       "                <p><b>SparkSession - hive</b></p>\n",
       "                \n",
       "        <div>\n",
       "            <p><b>SparkContext</b></p>\n",
       "\n",
       "            <p><a href=\"http://epyc.astro.washington.edu:4046\">Spark UI</a></p>\n",
       "\n",
       "            <dl>\n",
       "              <dt>Version</dt>\n",
       "                <dd><code>v2.4.0-SNAPSHOT</code></dd>\n",
       "              <dt>Master</dt>\n",
       "                <dd><code>local[8]</code></dd>\n",
       "              <dt>AppName</dt>\n",
       "                <dd><code>pyspark-shell</code></dd>\n",
       "            </dl>\n",
       "        </div>\n",
       "        \n",
       "            </div>\n",
       "        "
      ],
      "text/plain": [
       "<pyspark.sql.session.SparkSession at 0x7fec3215fa58>"
      ]
     },
     "execution_count": 3,
     "metadata": {},
     "output_type": "execute_result"
    }
   ],
   "source": [
    "spark"
   ]
  },
  {
   "cell_type": "code",
   "execution_count": 4,
   "metadata": {},
   "outputs": [
    {
     "data": {
      "text/plain": [
       "[Table(name='_gatspy_ztf2', database='default', description=None, tableType='MANAGED', isTemporary=False),\n",
       " Table(name='allwise_1am_dup', database='default', description=None, tableType='EXTERNAL', isTemporary=False),\n",
       " Table(name='allwise_500b_28e_10800z', database='default', description=None, tableType='MANAGED', isTemporary=False),\n",
       " Table(name='asassn_variability_catalog', database='default', description=None, tableType='MANAGED', isTemporary=False),\n",
       " Table(name='cesium_speedtest_ztfsample', database='default', description=None, tableType='MANAGED', isTemporary=False),\n",
       " Table(name='cklein_flare', database='default', description=None, tableType='MANAGED', isTemporary=False),\n",
       " Table(name='dambis_rrlyrae_metalicity', database='default', description=None, tableType='MANAGED', isTemporary=False),\n",
       " Table(name='demo_result', database='default', description=None, tableType='MANAGED', isTemporary=False),\n",
       " Table(name='faraway', database='default', description=None, tableType='MANAGED', isTemporary=False),\n",
       " Table(name='faraway2', database='default', description=None, tableType='MANAGED', isTemporary=False),\n",
       " Table(name='faraway3', database='default', description=None, tableType='MANAGED', isTemporary=False),\n",
       " Table(name='faraway_labeled_training_dataset', database='default', description=None, tableType='MANAGED', isTemporary=False),\n",
       " Table(name='faraway_set', database='default', description=None, tableType='MANAGED', isTemporary=False),\n",
       " Table(name='faraway_training_dataset', database='default', description=None, tableType='MANAGED', isTemporary=False),\n",
       " Table(name='gaia_500b_28e_10800z', database='default', description=None, tableType='MANAGED', isTemporary=False),\n",
       " Table(name='gaia_dr2', database='default', description=None, tableType='MANAGED', isTemporary=False),\n",
       " Table(name='gaia_dr2_1am_dup', database='default', description=None, tableType='EXTERNAL', isTemporary=False),\n",
       " Table(name='gaia_dr2_700lc_new', database='default', description=None, tableType='MANAGED', isTemporary=False),\n",
       " Table(name='gaia_dr2_ebv', database='default', description=None, tableType='MANAGED', isTemporary=False),\n",
       " Table(name='gaia_dr2_sfd', database='default', description=None, tableType='MANAGED', isTemporary=False),\n",
       " Table(name='gaia_sdss_3asec', database='default', description=None, tableType='MANAGED', isTemporary=False),\n",
       " Table(name='gaia_sdss_wise_1asec', database='default', description=None, tableType='MANAGED', isTemporary=False),\n",
       " Table(name='gaia_zoned1am_hd', database='default', description=None, tableType='MANAGED', isTemporary=False),\n",
       " Table(name='hi', database='default', description=None, tableType='MANAGED', isTemporary=False),\n",
       " Table(name='jnk_ztf_test', database='default', description=None, tableType='MANAGED', isTemporary=False),\n",
       " Table(name='jnk_ztf_test2', database='default', description=None, tableType='MANAGED', isTemporary=False),\n",
       " Table(name='nemec_rrlyrae_metalicity', database='default', description=None, tableType='MANAGED', isTemporary=False),\n",
       " Table(name='paula_listcvs', database='default', description=None, tableType='MANAGED', isTemporary=False),\n",
       " Table(name='sdss_500b_28e_10800z', database='default', description=None, tableType='MANAGED', isTemporary=False),\n",
       " Table(name='sdss_dr9_qso_s82', database='default', description=None, tableType='MANAGED', isTemporary=False),\n",
       " Table(name='sdss_zoned1am_700lc', database='default', description=None, tableType='MANAGED', isTemporary=False),\n",
       " Table(name='sdss_zoned1am_hd', database='default', description=None, tableType='MANAGED', isTemporary=False),\n",
       " Table(name='sdss_zoned1am_hd_lc', database='default', description=None, tableType='MANAGED', isTemporary=False),\n",
       " Table(name='sdss_zoned1am_hd_ps', database='default', description=None, tableType='MANAGED', isTemporary=False),\n",
       " Table(name='sesar_rrlyrae', database='default', description=None, tableType='MANAGED', isTemporary=False),\n",
       " Table(name='test_ztf_rc00_20sec2', database='default', description=None, tableType='MANAGED', isTemporary=False),\n",
       " Table(name='test_ztf_rc252', database='default', description=None, tableType='MANAGED', isTemporary=False),\n",
       " Table(name='unwise_v1', database='default', description=None, tableType='MANAGED', isTemporary=False),\n",
       " Table(name='unwise_v2', database='default', description=None, tableType='MANAGED', isTemporary=False),\n",
       " Table(name='ztf10', database='default', description=None, tableType='MANAGED', isTemporary=False),\n",
       " Table(name='ztf1000', database='default', description=None, tableType='MANAGED', isTemporary=False),\n",
       " Table(name='ztf10_assasn', database='default', description=None, tableType='MANAGED', isTemporary=False),\n",
       " Table(name='ztf10_assasn_best', database='default', description=None, tableType='MANAGED', isTemporary=False),\n",
       " Table(name='ztf10_assasn_cesium', database='default', description=None, tableType='MANAGED', isTemporary=False),\n",
       " Table(name='ztf10_assasn_cesium_best', database='default', description=None, tableType='MANAGED', isTemporary=False),\n",
       " Table(name='ztf_1am', database='default', description=None, tableType='MANAGED', isTemporary=False),\n",
       " Table(name='ztf_1am_lc', database='default', description=None, tableType='MANAGED', isTemporary=False),\n",
       " Table(name='ztf_500b_28e_10800z', database='default', description=None, tableType='MANAGED', isTemporary=False),\n",
       " Table(name='ztf_dec18', database='default', description=None, tableType='MANAGED', isTemporary=False),\n",
       " Table(name='ztf_exposures', database='default', description=None, tableType='MANAGED', isTemporary=False),\n",
       " Table(name='ztf_fid1_sdss_stars_lt20_2asec', database='default', description=None, tableType='MANAGED', isTemporary=False),\n",
       " Table(name='ztf_fid2_sdss_stars_lt20_2asec', database='default', description=None, tableType='MANAGED', isTemporary=False),\n",
       " Table(name='ztf_fid3_sdss_stars_lt20_2asec', database='default', description=None, tableType='MANAGED', isTemporary=False),\n",
       " Table(name='ztf_mar19_all', database='default', description=None, tableType='EXTERNAL', isTemporary=False),\n",
       " Table(name='ztf_nobs100', database='default', description=None, tableType='MANAGED', isTemporary=False)]"
      ]
     },
     "execution_count": 4,
     "metadata": {},
     "output_type": "execute_result"
    }
   ],
   "source": [
    "spark.catalog.listTables()"
   ]
  },
  {
   "cell_type": "markdown",
   "metadata": {},
   "source": [
    "Update 6/11/2019 : now there is ZTF DR1 table `ztf_mar19_all` which contains all light curves for the release..."
   ]
  },
  {
   "cell_type": "code",
   "execution_count": null,
   "metadata": {},
   "outputs": [],
   "source": [
    "spark.catalog."
   ]
  },
  {
   "cell_type": "code",
   "execution_count": 8,
   "metadata": {},
   "outputs": [
    {
     "data": {
      "text/plain": [
       "[Database(name='default', description='Default Hive database', locationUri='file:/epyc/projects/lsd2/pzwarehouse')]"
      ]
     },
     "execution_count": 8,
     "metadata": {},
     "output_type": "execute_result"
    }
   ],
   "source": [
    "# To check where these tables physically live, do \n",
    "# spark.catalog.listDatabases()"
   ]
  },
  {
   "cell_type": "markdown",
   "metadata": {},
   "source": [
    "How to drop a table : "
   ]
  },
  {
   "cell_type": "code",
   "execution_count": 16,
   "metadata": {},
   "outputs": [],
   "source": [
    "axs_catalog.drop_table(\"ztf_sdss_dr9_qso\")"
   ]
  },
  {
   "cell_type": "code",
   "execution_count": 17,
   "metadata": {},
   "outputs": [],
   "source": [
    "axs_catalog.drop_table(\"ztf_sdss_dr9_qso2\")"
   ]
  },
  {
   "cell_type": "markdown",
   "metadata": {},
   "source": [
    "### Load AXS catalog with ZTF "
   ]
  },
  {
   "cell_type": "code",
   "execution_count": 5,
   "metadata": {},
   "outputs": [],
   "source": [
    "from axs.catalog import AxsCatalog\n",
    "from axs.axsframe import AxsFrame\n",
    "axs_catalog = AxsCatalog(spark)\n",
    "ztf_lc = axs_catalog.load(\"ztf_mar19_all\")# axs_catalog.load(\"ztf_1am_lc\") # ztf light curves .... "
   ]
  },
  {
   "cell_type": "code",
   "execution_count": 10,
   "metadata": {},
   "outputs": [
    {
     "data": {
      "text/plain": [
       "{'bucket_col': 'zone',\n",
       " 'dec_col': 'dec',\n",
       " 'has_lightcurves': False,\n",
       " 'lc_columns': JavaObject id=o175,\n",
       " 'num_buckets': 500,\n",
       " 'ra_col': 'ra',\n",
       " 'table_id': 501,\n",
       " 'table_name': 'ztf_mar19_all',\n",
       " 'zone_height': 0.0166666666}"
      ]
     },
     "execution_count": 10,
     "metadata": {},
     "output_type": "execute_result"
    }
   ],
   "source": [
    "ztf_lc."
   ]
  },
  {
   "cell_type": "code",
   "execution_count": 7,
   "metadata": {},
   "outputs": [
    {
     "ename": "KeyboardInterrupt",
     "evalue": "",
     "output_type": "error",
     "traceback": [
      "\u001b[0;31m---------------------------------------------------------------------------\u001b[0m",
      "\u001b[0;31mKeyboardInterrupt\u001b[0m                         Traceback (most recent call last)",
      "\u001b[0;32m<ipython-input-7-737ed12dc1d3>\u001b[0m in \u001b[0;36m<module>\u001b[0;34m()\u001b[0m\n\u001b[0;32m----> 1\u001b[0;31m \u001b[0mztf_lc\u001b[0m\u001b[0;34m.\u001b[0m\u001b[0mdescribe\u001b[0m\u001b[0;34m(\u001b[0m\u001b[0;34m)\u001b[0m\u001b[0;34m\u001b[0m\u001b[0;34m\u001b[0m\u001b[0m\n\u001b[0m",
      "\u001b[0;32m/epyc/opt/spark-axs/python/axs/axsframe.py\u001b[0m in \u001b[0;36mdescribe\u001b[0;34m(self, *cols)\u001b[0m\n\u001b[1;32m    611\u001b[0m \u001b[0;34m\u001b[0m\u001b[0m\n\u001b[1;32m    612\u001b[0m     \u001b[0;32mdef\u001b[0m \u001b[0mdescribe\u001b[0m\u001b[0;34m(\u001b[0m\u001b[0mself\u001b[0m\u001b[0;34m,\u001b[0m \u001b[0;34m*\u001b[0m\u001b[0mcols\u001b[0m\u001b[0;34m)\u001b[0m\u001b[0;34m:\u001b[0m\u001b[0;34m\u001b[0m\u001b[0;34m\u001b[0m\u001b[0m\n\u001b[0;32m--> 613\u001b[0;31m         \u001b[0;32mreturn\u001b[0m \u001b[0mself\u001b[0m\u001b[0;34m.\u001b[0m\u001b[0m_df\u001b[0m\u001b[0;34m.\u001b[0m\u001b[0mdescribe\u001b[0m\u001b[0;34m(\u001b[0m\u001b[0;34m*\u001b[0m\u001b[0mcols\u001b[0m\u001b[0;34m)\u001b[0m\u001b[0;34m\u001b[0m\u001b[0;34m\u001b[0m\u001b[0m\n\u001b[0m\u001b[1;32m    614\u001b[0m \u001b[0;34m\u001b[0m\u001b[0m\n\u001b[1;32m    615\u001b[0m     \u001b[0;32mdef\u001b[0m \u001b[0mhead\u001b[0m\u001b[0;34m(\u001b[0m\u001b[0mself\u001b[0m\u001b[0;34m,\u001b[0m \u001b[0mn\u001b[0m\u001b[0;34m=\u001b[0m\u001b[0;32mNone\u001b[0m\u001b[0;34m)\u001b[0m\u001b[0;34m:\u001b[0m\u001b[0;34m\u001b[0m\u001b[0;34m\u001b[0m\u001b[0m\n",
      "\u001b[0;32m/epyc/opt/spark-axs/python/pyspark/sql/dataframe.py\u001b[0m in \u001b[0;36mdescribe\u001b[0;34m(self, *cols)\u001b[0m\n\u001b[1;32m   1170\u001b[0m         \u001b[0;32mif\u001b[0m \u001b[0mlen\u001b[0m\u001b[0;34m(\u001b[0m\u001b[0mcols\u001b[0m\u001b[0;34m)\u001b[0m \u001b[0;34m==\u001b[0m \u001b[0;36m1\u001b[0m \u001b[0;32mand\u001b[0m \u001b[0misinstance\u001b[0m\u001b[0;34m(\u001b[0m\u001b[0mcols\u001b[0m\u001b[0;34m[\u001b[0m\u001b[0;36m0\u001b[0m\u001b[0;34m]\u001b[0m\u001b[0;34m,\u001b[0m \u001b[0mlist\u001b[0m\u001b[0;34m)\u001b[0m\u001b[0;34m:\u001b[0m\u001b[0;34m\u001b[0m\u001b[0;34m\u001b[0m\u001b[0m\n\u001b[1;32m   1171\u001b[0m             \u001b[0mcols\u001b[0m \u001b[0;34m=\u001b[0m \u001b[0mcols\u001b[0m\u001b[0;34m[\u001b[0m\u001b[0;36m0\u001b[0m\u001b[0;34m]\u001b[0m\u001b[0;34m\u001b[0m\u001b[0;34m\u001b[0m\u001b[0m\n\u001b[0;32m-> 1172\u001b[0;31m         \u001b[0mjdf\u001b[0m \u001b[0;34m=\u001b[0m \u001b[0mself\u001b[0m\u001b[0;34m.\u001b[0m\u001b[0m_jdf\u001b[0m\u001b[0;34m.\u001b[0m\u001b[0mdescribe\u001b[0m\u001b[0;34m(\u001b[0m\u001b[0mself\u001b[0m\u001b[0;34m.\u001b[0m\u001b[0m_jseq\u001b[0m\u001b[0;34m(\u001b[0m\u001b[0mcols\u001b[0m\u001b[0;34m)\u001b[0m\u001b[0;34m)\u001b[0m\u001b[0;34m\u001b[0m\u001b[0;34m\u001b[0m\u001b[0m\n\u001b[0m\u001b[1;32m   1173\u001b[0m         \u001b[0;32mreturn\u001b[0m \u001b[0mDataFrame\u001b[0m\u001b[0;34m(\u001b[0m\u001b[0mjdf\u001b[0m\u001b[0;34m,\u001b[0m \u001b[0mself\u001b[0m\u001b[0;34m.\u001b[0m\u001b[0msql_ctx\u001b[0m\u001b[0;34m)\u001b[0m\u001b[0;34m\u001b[0m\u001b[0;34m\u001b[0m\u001b[0m\n\u001b[1;32m   1174\u001b[0m \u001b[0;34m\u001b[0m\u001b[0m\n",
      "\u001b[0;32m/epyc/opt/spark-axs/python/py4j/java_gateway.py\u001b[0m in \u001b[0;36m__call__\u001b[0;34m(self, *args)\u001b[0m\n\u001b[1;32m   1253\u001b[0m             \u001b[0mproto\u001b[0m\u001b[0;34m.\u001b[0m\u001b[0mEND_COMMAND_PART\u001b[0m\u001b[0;34m\u001b[0m\u001b[0;34m\u001b[0m\u001b[0m\n\u001b[1;32m   1254\u001b[0m \u001b[0;34m\u001b[0m\u001b[0m\n\u001b[0;32m-> 1255\u001b[0;31m         \u001b[0manswer\u001b[0m \u001b[0;34m=\u001b[0m \u001b[0mself\u001b[0m\u001b[0;34m.\u001b[0m\u001b[0mgateway_client\u001b[0m\u001b[0;34m.\u001b[0m\u001b[0msend_command\u001b[0m\u001b[0;34m(\u001b[0m\u001b[0mcommand\u001b[0m\u001b[0;34m)\u001b[0m\u001b[0;34m\u001b[0m\u001b[0;34m\u001b[0m\u001b[0m\n\u001b[0m\u001b[1;32m   1256\u001b[0m         return_value = get_return_value(\n\u001b[1;32m   1257\u001b[0m             answer, self.gateway_client, self.target_id, self.name)\n",
      "\u001b[0;32m/epyc/opt/spark-axs/python/py4j/java_gateway.py\u001b[0m in \u001b[0;36msend_command\u001b[0;34m(self, command, retry, binary)\u001b[0m\n\u001b[1;32m    983\u001b[0m         \u001b[0mconnection\u001b[0m \u001b[0;34m=\u001b[0m \u001b[0mself\u001b[0m\u001b[0;34m.\u001b[0m\u001b[0m_get_connection\u001b[0m\u001b[0;34m(\u001b[0m\u001b[0;34m)\u001b[0m\u001b[0;34m\u001b[0m\u001b[0;34m\u001b[0m\u001b[0m\n\u001b[1;32m    984\u001b[0m         \u001b[0;32mtry\u001b[0m\u001b[0;34m:\u001b[0m\u001b[0;34m\u001b[0m\u001b[0;34m\u001b[0m\u001b[0m\n\u001b[0;32m--> 985\u001b[0;31m             \u001b[0mresponse\u001b[0m \u001b[0;34m=\u001b[0m \u001b[0mconnection\u001b[0m\u001b[0;34m.\u001b[0m\u001b[0msend_command\u001b[0m\u001b[0;34m(\u001b[0m\u001b[0mcommand\u001b[0m\u001b[0;34m)\u001b[0m\u001b[0;34m\u001b[0m\u001b[0;34m\u001b[0m\u001b[0m\n\u001b[0m\u001b[1;32m    986\u001b[0m             \u001b[0;32mif\u001b[0m \u001b[0mbinary\u001b[0m\u001b[0;34m:\u001b[0m\u001b[0;34m\u001b[0m\u001b[0;34m\u001b[0m\u001b[0m\n\u001b[1;32m    987\u001b[0m                 \u001b[0;32mreturn\u001b[0m \u001b[0mresponse\u001b[0m\u001b[0;34m,\u001b[0m \u001b[0mself\u001b[0m\u001b[0;34m.\u001b[0m\u001b[0m_create_connection_guard\u001b[0m\u001b[0;34m(\u001b[0m\u001b[0mconnection\u001b[0m\u001b[0;34m)\u001b[0m\u001b[0;34m\u001b[0m\u001b[0;34m\u001b[0m\u001b[0m\n",
      "\u001b[0;32m/epyc/opt/spark-axs/python/py4j/java_gateway.py\u001b[0m in \u001b[0;36msend_command\u001b[0;34m(self, command)\u001b[0m\n\u001b[1;32m   1150\u001b[0m \u001b[0;34m\u001b[0m\u001b[0m\n\u001b[1;32m   1151\u001b[0m         \u001b[0;32mtry\u001b[0m\u001b[0;34m:\u001b[0m\u001b[0;34m\u001b[0m\u001b[0;34m\u001b[0m\u001b[0m\n\u001b[0;32m-> 1152\u001b[0;31m             \u001b[0manswer\u001b[0m \u001b[0;34m=\u001b[0m \u001b[0msmart_decode\u001b[0m\u001b[0;34m(\u001b[0m\u001b[0mself\u001b[0m\u001b[0;34m.\u001b[0m\u001b[0mstream\u001b[0m\u001b[0;34m.\u001b[0m\u001b[0mreadline\u001b[0m\u001b[0;34m(\u001b[0m\u001b[0;34m)\u001b[0m\u001b[0;34m[\u001b[0m\u001b[0;34m:\u001b[0m\u001b[0;34m-\u001b[0m\u001b[0;36m1\u001b[0m\u001b[0;34m]\u001b[0m\u001b[0;34m)\u001b[0m\u001b[0;34m\u001b[0m\u001b[0;34m\u001b[0m\u001b[0m\n\u001b[0m\u001b[1;32m   1153\u001b[0m             \u001b[0mlogger\u001b[0m\u001b[0;34m.\u001b[0m\u001b[0mdebug\u001b[0m\u001b[0;34m(\u001b[0m\u001b[0;34m\"Answer received: {0}\"\u001b[0m\u001b[0;34m.\u001b[0m\u001b[0mformat\u001b[0m\u001b[0;34m(\u001b[0m\u001b[0manswer\u001b[0m\u001b[0;34m)\u001b[0m\u001b[0;34m)\u001b[0m\u001b[0;34m\u001b[0m\u001b[0;34m\u001b[0m\u001b[0m\n\u001b[1;32m   1154\u001b[0m             \u001b[0;32mif\u001b[0m \u001b[0manswer\u001b[0m\u001b[0;34m.\u001b[0m\u001b[0mstartswith\u001b[0m\u001b[0;34m(\u001b[0m\u001b[0mproto\u001b[0m\u001b[0;34m.\u001b[0m\u001b[0mRETURN_MESSAGE\u001b[0m\u001b[0;34m)\u001b[0m\u001b[0;34m:\u001b[0m\u001b[0;34m\u001b[0m\u001b[0;34m\u001b[0m\u001b[0m\n",
      "\u001b[0;32m/epyc/opt/anaconda/lib/python3.6/socket.py\u001b[0m in \u001b[0;36mreadinto\u001b[0;34m(self, b)\u001b[0m\n\u001b[1;32m    584\u001b[0m         \u001b[0;32mwhile\u001b[0m \u001b[0;32mTrue\u001b[0m\u001b[0;34m:\u001b[0m\u001b[0;34m\u001b[0m\u001b[0;34m\u001b[0m\u001b[0m\n\u001b[1;32m    585\u001b[0m             \u001b[0;32mtry\u001b[0m\u001b[0;34m:\u001b[0m\u001b[0;34m\u001b[0m\u001b[0;34m\u001b[0m\u001b[0m\n\u001b[0;32m--> 586\u001b[0;31m                 \u001b[0;32mreturn\u001b[0m \u001b[0mself\u001b[0m\u001b[0;34m.\u001b[0m\u001b[0m_sock\u001b[0m\u001b[0;34m.\u001b[0m\u001b[0mrecv_into\u001b[0m\u001b[0;34m(\u001b[0m\u001b[0mb\u001b[0m\u001b[0;34m)\u001b[0m\u001b[0;34m\u001b[0m\u001b[0;34m\u001b[0m\u001b[0m\n\u001b[0m\u001b[1;32m    587\u001b[0m             \u001b[0;32mexcept\u001b[0m \u001b[0mtimeout\u001b[0m\u001b[0;34m:\u001b[0m\u001b[0;34m\u001b[0m\u001b[0;34m\u001b[0m\u001b[0m\n\u001b[1;32m    588\u001b[0m                 \u001b[0mself\u001b[0m\u001b[0;34m.\u001b[0m\u001b[0m_timeout_occurred\u001b[0m \u001b[0;34m=\u001b[0m \u001b[0;32mTrue\u001b[0m\u001b[0;34m\u001b[0m\u001b[0;34m\u001b[0m\u001b[0m\n",
      "\u001b[0;31mKeyboardInterrupt\u001b[0m: "
     ]
    }
   ],
   "source": [
    "ztf_lc.describe()"
   ]
  },
  {
   "cell_type": "markdown",
   "metadata": {},
   "source": [
    "Show the top few rows ... "
   ]
  },
  {
   "cell_type": "code",
   "execution_count": 9,
   "metadata": {},
   "outputs": [
    {
     "data": {
      "text/plain": [
       "[Row(matchid=10294422001559, ra=0.029200815384615383, dec=-16.263277997435896, nobs_avail=39, combined_matchids=[10294421013987, 10294421013987, 10294421013987, 10294421013987, 10294421013987, 10294421013987, 10294421013987, 10294421013987, 10294421013987, 10294421013987, 10294421013987, 10294421013987, 10294421013987, 10294421013987, 10294421013987, 10294422001559, 10294422001559, 10294422001559, 10294422001559, 10294422001559, 10294422001559, 10294422001559, 10294422001559, 10294422001559, 10294422001559, 10294422001559, 10294422001559, 10294422001559, 10294422001559, 10294422001559, 10294422001559, 10294422001559, 10294422001559, 10294422001559, 10294422001559, 10294422001559, 10294422001559, 10294422001559, 10294422001559], mjd=[58429.2307176, 58378.3356597, 58426.3169329, 58323.4388194, 58366.3977315, 58338.4080093, 58351.418831, 58345.4153588, 58423.2403356, 58342.436956, 58369.3298611, 58372.4009954, 58432.2429861, 58363.3348495, 58390.3144097, 58360.3542824, 58472.1060532, 58426.2527778, 58323.4809606, 58354.4090509, 58378.3773264, 58354.3533333, 58338.4618403, 58429.2522917, 58363.4237731, 58348.4140394, 58351.3726736, 58372.371331, 58290.480544, 58375.3357755, 58432.2522222, 58320.4817477, 58332.4182523, 58342.4621875, 58390.2685764, 58369.3774769, 58335.4381366, 58382.3158681, 58366.3486574], programid=[1, 1, 1, 1, 1, 1, 1, 1, 1, 1, 1, 1, 1, 1, 1, 1, 1, 1, 1, 1, 1, 1, 1, 1, 1, 1, 1, 1, 1, 1, 1, 1, 1, 1, 1, 1, 1, 1, 1], filterid=[1, 1, 1, 1, 1, 1, 1, 1, 1, 1, 1, 1, 1, 1, 1, 2, 2, 2, 2, 2, 2, 2, 2, 2, 2, 2, 2, 2, 2, 2, 2, 2, 2, 2, 2, 2, 2, 2, 2], mag=[20.52320671081543, 20.821575164794922, 20.585926055908203, 20.539337158203125, 20.541175842285156, 20.734291076660156, 20.50154685974121, 20.308853149414062, 20.584842681884766, 20.639564514160156, 20.595897674560547, 20.529415130615234, 20.647716522216797, 20.641342163085938, 20.3294620513916, 19.837047576904297, 19.966659545898438, 20.30284309387207, 20.21855926513672, 20.41679573059082, 20.11280059814453, 20.279518127441406, 20.231952667236328, 20.239704132080078, 20.18246078491211, 20.159944534301758, 20.132511138916016, 20.278358459472656, 20.140403747558594, 20.097074508666992, 20.00757598876953, 20.230989456176758, 20.361095428466797, 19.957855224609375, 20.20929527282715, 20.179622650146484, 20.169395446777344, 20.071941375732422, 20.224212646484375], magerr=[0.14372503757476807, 0.16154265403747559, 0.14747047424316406, 0.14468836784362793, 0.1447981595993042, 0.15633034706115723, 0.1424316167831421, 0.13231007754802704, 0.147405743598938, 0.15067362785339355, 0.14806592464447021, 0.144095778465271, 0.1511603593826294, 0.15077972412109375, 0.1334926337003708, 0.10343597829341888, 0.11251258850097656, 0.13754260540008545, 0.13117675483226776, 0.1460341513156891, 0.12322573363780975, 0.13578322529792786, 0.13218875229358673, 0.13277462124824524, 0.1284523755311966, 0.12675748765468597, 0.12469904124736786, 0.13569556176662445, 0.12529046833515167, 0.12205412983894348, 0.11546806246042252, 0.13211596012115479, 0.14191249012947083, 0.11188191175460815, 0.1304769366979599, 0.12823839485645294, 0.12746837735176086, 0.12018980830907822, 0.13160386681556702], psfmag=[20.52320671081543, 20.821575164794922, 20.585926055908203, 20.539337158203125, 20.541175842285156, 20.734291076660156, 20.50154685974121, 20.308853149414062, 20.584842681884766, 20.639564514160156, 20.595897674560547, 20.529415130615234, 20.647716522216797, 20.641342163085938, 20.3294620513916, 19.837047576904297, 19.966659545898438, 20.30284309387207, 20.21855926513672, 20.41679573059082, 20.11280059814453, 20.279518127441406, 20.231952667236328, 20.239704132080078, 20.18246078491211, 20.159944534301758, 20.132511138916016, 20.278358459472656, 20.140403747558594, 20.097074508666992, 20.00757598876953, 20.230989456176758, 20.361095428466797, 19.957855224609375, 20.20929527282715, 20.179622650146484, 20.169395446777344, 20.071941375732422, 20.224212646484375], psfmagerr=[0.11400000005960464, 0.1770000010728836, 0.31299999356269836, 0.16300000250339508, 0.21299999952316284, 0.24500000476837158, 0.1550000011920929, 0.11900000274181366, 0.20200000703334808, 0.17499999701976776, 0.19099999964237213, 0.1899999976158142, 0.3269999921321869, 0.3569999933242798, 0.2759999930858612, 0.22499999403953552, 0.20200000703334808, 0.3199999928474426, 0.13500000536441803, 0.2849999964237213, 0.10700000077486038, 0.24300000071525574, 0.12399999797344208, 0.14399999380111694, 0.16699999570846558, 0.10499999672174454, 0.13699999451637268, 0.10899999737739563, 0.3009999990463257, 0.12600000202655792, 0.23899999260902405, 0.11699999868869781, 0.33000001311302185, 0.12600000202655792, 0.19499999284744263, 0.0989999994635582, 0.1809999942779541, 0.210999995470047, 0.11299999803304672], psfflux=[191.24563598632812, 147.75660705566406, 149.0281219482422, 179.8417205810547, 197.1156768798828, 144.69248962402344, 186.60198974609375, 204.89398193359375, 183.45167541503906, 139.1451416015625, 175.8006591796875, 191.78863525390625, 166.39573669433594, 165.9228057861328, 228.7760467529297, 381.1890869140625, 344.3011474609375, 189.44644165039062, 262.6701965332031, 221.56874084472656, 299.5089111328125, 251.5665283203125, 252.5135040283203, 263.90570068359375, 267.3955383300781, 271.4394226074219, 283.13763427734375, 260.7051696777344, 278.9226379394531, 301.4784851074219, 324.9134216308594, 251.80294799804688, 220.73556518554688, 295.3309020996094, 270.6766662597656, 272.9713134765625, 279.1842346191406, 304.5993347167969, 271.9491271972656], psffluxerr=[20.133228302001953, 24.114946365356445, 42.98982238769531, 26.949684143066406, 38.688358306884766, 32.69032287597656, 26.673723220825195, 22.381521224975586, 34.08028793334961, 22.478809356689453, 30.95879554748535, 33.56233215332031, 50.14540481567383, 54.49580764770508, 58.240386962890625, 78.8543930053711, 64.02513122558594, 55.80082321166992, 32.53934097290039, 58.119808197021484, 29.48921012878418, 56.21074295043945, 28.908889770507812, 35.05013656616211, 41.20270919799805, 26.225521087646484, 35.59638977050781, 26.124874114990234, 77.37744903564453, 34.8755989074707, 71.40255737304688, 27.134532928466797, 67.02964782714844, 34.32763671875, 48.63890075683594, 24.814746856689453, 46.54201126098633, 59.279441833496094, 28.228466033935547], chi=[0.45500001311302185, 0.5740000009536743, 0.9190000295639038, 0.9940000176429749, 1.1089999675750732, 1.152999997138977, 1.3300000429153442, 0.414000004529953, 0.925000011920929, 0.8920000195503235, 1.0950000286102295, 0.7730000019073486, 1.281000018119812, 1.0859999656677246, 0.5569999814033508, 0.5440000295639038, 0.47999998927116394, 0.8980000019073486, 0.7799999713897705, 0.765999972820282, 0.5979999899864197, 0.5669999718666077, 0.4050000011920929, 1.0509999990463257, 0.4959999918937683, 0.6269999742507935, 1.2139999866485596, 0.328000009059906, 0.5920000076293945, 0.8920000195503235, 0.8880000114440918, 0.8059999942779541, 0.367000013589859, 0.8330000042915344, 0.6019999980926514, 0.453000009059906, 1.0750000476837158, 0.6909999847412109, 0.6430000066757202], catflags=[0, 0, 0, 0, 0, 0, 0, 0, 0, 0, 0, 0, 0, 0, 0, 0, 0, -32768, 0, 0, 0, 0, 0, 0, 0, 0, 0, 0, 0, 0, 0, 0, 0, 0, 0, 0, 0, 0, 0], sharp=[-0.020999999716877937, -0.19499999284744263, -0.2709999978542328, -0.17900000512599945, -0.07100000232458115, 0.00800000037997961, 0.05999999865889549, -0.0430000014603138, -0.15399999916553497, -0.19499999284744263, 0.08699999749660492, -0.08399999886751175, -0.08900000154972076, -0.2639999985694885, -0.21299999952316284, -0.21899999678134918, -0.05000000074505806, 0.028999999165534973, 0.04500000178813934, 0.2160000056028366, 0.03400000184774399, -0.21799999475479126, -0.0949999988079071, -0.09700000286102295, -0.04699999839067459, -0.07400000095367432, -0.1469999998807907, 0.014000000432133675, -0.33500000834465027, -0.054999999701976776, -0.24899999797344208, 0.020999999716877937, -0.07900000363588333, -0.20000000298023224, -0.1550000011920929, -0.014000000432133675, -0.05900000035762787, 0.17499999701976776, -0.11400000005960464], xpos=[2146.785888671875, 2133.739990234375, 2154.0, 2111.368896484375, 2136.56298828125, 2121.302978515625, 2133.113037109375, 2126.491943359375, 2157.009033203125, 2127.056884765625, 2125.736083984375, 2143.489013671875, 2154.177001953125, 2120.31103515625, 2139.132080078125, 2121.820068359375, 2148.985107421875, 2151.136962890625, 2123.52294921875, 2132.888916015625, 2142.052001953125, 2118.492919921875, 2137.660888671875, 2166.76708984375, 2140.625, 2126.241943359375, 2116.972900390625, 2142.803955078125, 2114.5869140625, 2135.033935546875, 2162.447998046875, 2123.27294921875, 2069.04296875, 2133.52099609375, 2139.47607421875, 2141.9619140625, 2129.7109375, 2126.847900390625, 2125.658935546875], ypos=[667.2349853515625, 565.3690185546875, 653.9550170898438, 707.5440063476562, 568.968994140625, 797.9219970703125, 780.5250244140625, 625.843017578125, 680.177978515625, 710.5050048828125, 564.10400390625, 585.5670166015625, 684.218994140625, 564.8319702148438, 483.02301025390625, 568.0469970703125, 684.3270263671875, 662.4249877929688, 715.4310302734375, 613.625, 566.7620239257812, 604.7369995117188, 806.10400390625, 669.0599975585938, 568.6119995117188, 580.6270141601562, 576.1079711914062, 588.280029296875, 636.4429931640625, 568.8109741210938, 685.6610107421875, 642.708984375, 784.3610229492188, 714.9500122070312, 473.2919921875, 570.5449829101562, 704.4650268554688, 463.4700012207031, 565.6320190429688], zone=4424, dup=0)]"
      ]
     },
     "execution_count": 9,
     "metadata": {},
     "output_type": "execute_result"
    }
   ],
   "source": [
    "ztf_lc.head(1)"
   ]
  },
  {
   "cell_type": "markdown",
   "metadata": {},
   "source": [
    "So each row is a nested light curve. Cool! "
   ]
  },
  {
   "cell_type": "markdown",
   "metadata": {},
   "source": [
    "### Ingest the SDSS S82 DR9 QSO catalog as AXS catalog"
   ]
  },
  {
   "cell_type": "markdown",
   "metadata": {},
   "source": [
    "Execute the cell below only if `sdss_dr9_qso_s82` was not on the list of spark tables ... "
   ]
  },
  {
   "cell_type": "code",
   "execution_count": 5,
   "metadata": {},
   "outputs": [],
   "source": [
    "from astropy.table import Table\n",
    "from pyspark.sql.types import *\n",
    "\n",
    "File = 'DB_QSO_S82.dat'\n",
    "colnames = ['dbID', 'ra', 'dec', 'SDR5ID', 'M_i', 'M_i_corr', 'redshift',\n",
    "                   'mass_BH', 'Lbol', 'u', 'g', 'r', 'i', 'z', 'Au']\n",
    "table = Table.read(File, format='ascii', names = colnames)\n",
    "# make pandas df \n",
    "df = table.to_pandas()\n",
    "\n",
    "# make spark df \n",
    "fields = ['dbID', 'ra', 'dec', 'SDR5ID', 'M_i', 'M_i_corr', 'redshift',\n",
    "                   'mass_BH', 'Lbol', 'u', 'g', 'r', 'i', 'z', 'Au']\n",
    "\n",
    "field_types = [IntegerType(),DoubleType(),DoubleType(),IntegerType(),\n",
    "               DoubleType(),DoubleType(),DoubleType(),DoubleType(),DoubleType(),\n",
    "               DoubleType(),DoubleType(),DoubleType(),DoubleType(),DoubleType(),\n",
    "               DoubleType()]\n",
    "\n",
    "fields = [StructField(field_name, type_class, True) for field_name, \n",
    "          type_class in zip(fields, field_types)]\n",
    "schema = StructType(fields)\n",
    "sdf = spark.createDataFrame(df,schema=schema)"
   ]
  },
  {
   "cell_type": "code",
   "execution_count": 8,
   "metadata": {},
   "outputs": [],
   "source": [
    "from axs import Constants\n",
    "axs_catalog.save_axs_table(sdf,\"sdss_dr9_qso_s82\",  True, True, 500 ,Constants.ONE_AMIN)"
   ]
  },
  {
   "cell_type": "markdown",
   "metadata": {},
   "source": [
    "Since the steps above have been done,  I can read in the results : "
   ]
  },
  {
   "cell_type": "code",
   "execution_count": 11,
   "metadata": {},
   "outputs": [],
   "source": [
    "qso = axs_catalog.load(\"sdss_dr9_qso_s82\")"
   ]
  },
  {
   "cell_type": "code",
   "execution_count": 11,
   "metadata": {},
   "outputs": [
    {
     "data": {
      "text/plain": [
       "[Row(dbID=133470, ra=0.237056, dec=-1.069386, SDR5ID=40, M_i=-26.287, M_i_corr=-26.913, redshift=2.1065, mass_BH=0.0, Lbol=0.0, u=20.502, g=20.186, r=19.632, i=19.279, z=18.842, Au=0.213, zone=5335, dup=0)]"
      ]
     },
     "execution_count": 11,
     "metadata": {},
     "output_type": "execute_result"
    }
   ],
   "source": [
    "qso.head(1)"
   ]
  },
  {
   "cell_type": "code",
   "execution_count": null,
   "metadata": {},
   "outputs": [],
   "source": []
  },
  {
   "cell_type": "markdown",
   "metadata": {},
   "source": [
    "### Steps to crossmatch ZTF matchfiles (LC) to SDSS S82  DB9 QSO\n",
    "\n",
    "S82 is a narrow strip in dec. Illustrate the extent :"
   ]
  },
  {
   "cell_type": "code",
   "execution_count": 12,
   "metadata": {},
   "outputs": [
    {
     "data": {
      "text/plain": [
       "Text(0, 0.5, 'dec')"
      ]
     },
     "execution_count": 12,
     "metadata": {},
     "output_type": "execute_result"
    },
    {
     "data": {
      "image/png": "[encoded data removed]",
      "text/plain": [
       "<Figure size 432x288 with 1 Axes>"
      ]
     },
     "metadata": {},
     "output_type": "display_data"
    }
   ],
   "source": [
    "# Illustrate the extent of S82 : \n",
    "# it's a narrow strip in dec \n",
    "table = qso.select(['ra','dec']).limit(10000).toPandas()\n",
    "\n",
    "%matplotlib inline\n",
    "import matplotlib.pyplot as plt \n",
    "plt.scatter(table['ra'], table['dec'], s=0.1)\n",
    "plt.xlabel('ra')\n",
    "plt.ylabel('dec')"
   ]
  },
  {
   "cell_type": "markdown",
   "metadata": {},
   "source": [
    "To speed up the process, we limit the range of ZTF to ra,dec covered by S82 : $\\|{ \\delta }\\| < 1.3$. Also,  select ZTF light curves that have more than 1 good epoch : "
   ]
  },
  {
   "cell_type": "code",
   "execution_count": 13,
   "metadata": {},
   "outputs": [
    {
     "data": {
      "text/plain": [
       "['matchid',\n",
       " 'ra',\n",
       " 'dec',\n",
       " 'nobs_avail',\n",
       " 'combined_matchids',\n",
       " 'mjd',\n",
       " 'programid',\n",
       " 'filterid',\n",
       " 'mag',\n",
       " 'magerr',\n",
       " 'psfmag',\n",
       " 'psfmagerr',\n",
       " 'psfflux',\n",
       " 'psffluxerr',\n",
       " 'chi',\n",
       " 'catflags',\n",
       " 'sharp',\n",
       " 'xpos',\n",
       " 'ypos',\n",
       " 'zone',\n",
       " 'dup']"
      ]
     },
     "execution_count": 13,
     "metadata": {},
     "output_type": "execute_result"
    }
   ],
   "source": [
    "ztf_lc.columns"
   ]
  },
  {
   "cell_type": "code",
   "execution_count": 13,
   "metadata": {},
   "outputs": [],
   "source": [
    "from pyspark.sql.functions import abs as sparkabs  # need to use the spark abs \n",
    "\n",
    "ztf_lc_select = ztf_lc.select(['zone', 'dup', 'matchid', 'ra', 'dec', \n",
    "              'mag', 'magerr', 'psfmag','psfmagerr', 'filterid', 'mjd','nobs_avail']).\\\n",
    "     where((ztf_lc['nobs_avail']>1) & (sparkabs(ztf_lc['dec']) < 1.3) )\n",
    "                               \n",
    "#ztf_lc_select = ztf_lc.select(['zone', 'dup', 'matchid', 'ra', 'dec', \n",
    "#               'bestmagrms', 'bestmeanmag', 'bestmedianmag',\n",
    "#               'medianmag','meanmag','nbestobs', 'ngoodobs']).\\\n",
    "#      where((ztf_lc['ngoodobs']>1) & (sparkabs(ztf_lc['dec']) < 1.3) )"
   ]
  },
  {
   "cell_type": "markdown",
   "metadata": {},
   "source": [
    "Show how many rows this selection includes... "
   ]
  },
  {
   "cell_type": "code",
   "execution_count": 15,
   "metadata": {},
   "outputs": [
    {
     "name": "stdout",
     "output_type": "stream",
     "text": [
      "CPU times: user 28.3 ms, sys: 9.51 ms, total: 37.8 ms\n",
      "Wall time: 3min 10s\n"
     ]
    },
    {
     "data": {
      "text/plain": [
       "30638696"
      ]
     },
     "execution_count": 15,
     "metadata": {},
     "output_type": "execute_result"
    }
   ],
   "source": [
    "%%time \n",
    "ztf_lc_select.count()"
   ]
  },
  {
   "cell_type": "code",
   "execution_count": 18,
   "metadata": {},
   "outputs": [],
   "source": []
  },
  {
   "cell_type": "markdown",
   "metadata": {},
   "source": [
    "Perform the crossmatch:"
   ]
  },
  {
   "cell_type": "markdown",
   "metadata": {},
   "source": [
    "( before the  crossmatch I had to remove the existing catalog because the connection stalled during the crossmatch ...) . `axs_catalog.drop_table()` wouldn't work because it didn't get fully ingested to axis. Needed to manually remove the temporary files. This was done by :\n",
    "\n",
    "    ssh suberlak@epyc.astro.washington.edu  \n",
    "    cd /epyc/projects/lsd2/pzwarehouse/\n",
    "    rm -rf ztf_dr1_s82_qso/\n",
    "    exit \n",
    "    "
   ]
  },
  {
   "cell_type": "code",
   "execution_count": 18,
   "metadata": {},
   "outputs": [
    {
     "name": "stdout",
     "output_type": "stream",
     "text": [
      "CPU times: user 2.72 s, sys: 984 ms, total: 3.7 s\n",
      "Wall time: 3h 43min 58s\n"
     ]
    }
   ],
   "source": [
    "%%time\n",
    "from axs import Constants\n",
    "fname = \"ztf_dr1_s82_qso\"\n",
    "crossmatch = ztf_lc_select.crossmatch(qso, r=2*Constants.ONE_ASEC).\\\n",
    "    save_axs_table(fname)"
   ]
  },
  {
   "cell_type": "code",
   "execution_count": 5,
   "metadata": {},
   "outputs": [],
   "source": [
    "# If all the above has already been executed, just \n",
    "# load the AXS catalog, move to pandas, to astropy,\n",
    "# and save as a text file to export locally and compare to SDSS, PS1 data ... \n",
    "from axs.catalog import AxsCatalog\n",
    "axs_catalog = AxsCatalog(spark)\n",
    "zq = axs_catalog.load(\"ztf_dr1_s82_qso\")\n",
    "zqt = zq.toPandas()\n"
   ]
  },
  {
   "cell_type": "code",
   "execution_count": 6,
   "metadata": {},
   "outputs": [],
   "source": [
    "from astropy.table import Table\n",
    "zqt1 = Table.from_pandas(zqt)"
   ]
  },
  {
   "cell_type": "code",
   "execution_count": 12,
   "metadata": {},
   "outputs": [],
   "source": [
    "zqt1.write('ztf_dr1_s82_qso_lcs.tbl', format='ipac')"
   ]
  },
  {
   "cell_type": "markdown",
   "metadata": {},
   "source": [
    "\n",
    "I scp that to my local machine :\n",
    "    \n",
    "    cd ~/GradResearch/Paper2_SDSS_PTF_PS1/raw_data/\n",
    "    scp suberlak@epyc.astro.washington.edu:/epyc/users/suberlak/ztf_dr1_s82_qso_lcs.tbl .\n",
    "        \n",
    "I can read it in with \n",
    "       \n",
    "    from astropy.table import Table\n",
    "    ztf = Table.read('ztf_dr1_s82_qso_lcs.tbl', format='ipac')"
   ]
  },
  {
   "cell_type": "code",
   "execution_count": null,
   "metadata": {},
   "outputs": [],
   "source": []
  },
  {
   "cell_type": "markdown",
   "metadata": {},
   "source": [
    "( Before ZTF DR1 the problem was : no actual overlap ... ) "
   ]
  },
  {
   "cell_type": "code",
   "execution_count": 8,
   "metadata": {},
   "outputs": [],
   "source": [
    "t = ztf_lc_select.toPandas()"
   ]
  },
  {
   "cell_type": "code",
   "execution_count": 10,
   "metadata": {},
   "outputs": [
    {
     "data": {
      "text/html": [
       "<div>\n",
       "<style scoped>\n",
       "    .dataframe tbody tr th:only-of-type {\n",
       "        vertical-align: middle;\n",
       "    }\n",
       "\n",
       "    .dataframe tbody tr th {\n",
       "        vertical-align: top;\n",
       "    }\n",
       "\n",
       "    .dataframe thead th {\n",
       "        text-align: right;\n",
       "    }\n",
       "</style>\n",
       "<table border=\"1\" class=\"dataframe\">\n",
       "  <thead>\n",
       "    <tr style=\"text-align: right;\">\n",
       "      <th></th>\n",
       "      <th>zone</th>\n",
       "      <th>dup</th>\n",
       "      <th>matchid</th>\n",
       "      <th>ra</th>\n",
       "      <th>dec</th>\n",
       "      <th>bestmagrms</th>\n",
       "      <th>bestmeanmag</th>\n",
       "      <th>bestmedianmag</th>\n",
       "      <th>medianmag</th>\n",
       "      <th>meanmag</th>\n",
       "      <th>nbestobs</th>\n",
       "      <th>ngoodobs</th>\n",
       "    </tr>\n",
       "  </thead>\n",
       "  <tbody>\n",
       "    <tr>\n",
       "      <th>0</th>\n",
       "      <td>5335</td>\n",
       "      <td>0</td>\n",
       "      <td>0004241202216748</td>\n",
       "      <td>195.684502</td>\n",
       "      <td>-1.077257</td>\n",
       "      <td>0.104484</td>\n",
       "      <td>20.637121</td>\n",
       "      <td>20.637121</td>\n",
       "      <td>20.637121</td>\n",
       "      <td>20.637121</td>\n",
       "      <td>2</td>\n",
       "      <td>2</td>\n",
       "    </tr>\n",
       "    <tr>\n",
       "      <th>1</th>\n",
       "      <td>5335</td>\n",
       "      <td>0</td>\n",
       "      <td>0004241202206664</td>\n",
       "      <td>195.688365</td>\n",
       "      <td>-1.068434</td>\n",
       "      <td>0.021098</td>\n",
       "      <td>16.971289</td>\n",
       "      <td>16.977032</td>\n",
       "      <td>16.976179</td>\n",
       "      <td>16.970150</td>\n",
       "      <td>21</td>\n",
       "      <td>24</td>\n",
       "    </tr>\n",
       "    <tr>\n",
       "      <th>2</th>\n",
       "      <td>5335</td>\n",
       "      <td>0</td>\n",
       "      <td>0004241202201518</td>\n",
       "      <td>195.690204</td>\n",
       "      <td>-1.079686</td>\n",
       "      <td>0.109264</td>\n",
       "      <td>19.722658</td>\n",
       "      <td>19.702240</td>\n",
       "      <td>19.714390</td>\n",
       "      <td>19.731030</td>\n",
       "      <td>19</td>\n",
       "      <td>21</td>\n",
       "    </tr>\n",
       "    <tr>\n",
       "      <th>3</th>\n",
       "      <td>5335</td>\n",
       "      <td>1</td>\n",
       "      <td>0004241202206655</td>\n",
       "      <td>195.692898</td>\n",
       "      <td>-1.066118</td>\n",
       "      <td>0.166418</td>\n",
       "      <td>19.209494</td>\n",
       "      <td>19.247002</td>\n",
       "      <td>19.246765</td>\n",
       "      <td>19.214813</td>\n",
       "      <td>19</td>\n",
       "      <td>22</td>\n",
       "    </tr>\n",
       "    <tr>\n",
       "      <th>4</th>\n",
       "      <td>5335</td>\n",
       "      <td>0</td>\n",
       "      <td>0004241202201469</td>\n",
       "      <td>195.706372</td>\n",
       "      <td>-1.071385</td>\n",
       "      <td>0.186656</td>\n",
       "      <td>20.317308</td>\n",
       "      <td>20.231001</td>\n",
       "      <td>20.260391</td>\n",
       "      <td>20.315016</td>\n",
       "      <td>11</td>\n",
       "      <td>12</td>\n",
       "    </tr>\n",
       "  </tbody>\n",
       "</table>\n",
       "</div>"
      ],
      "text/plain": [
       "   zone  dup           matchid          ra       dec  bestmagrms  bestmeanmag  \\\n",
       "0  5335    0  0004241202216748  195.684502 -1.077257    0.104484    20.637121   \n",
       "1  5335    0  0004241202206664  195.688365 -1.068434    0.021098    16.971289   \n",
       "2  5335    0  0004241202201518  195.690204 -1.079686    0.109264    19.722658   \n",
       "3  5335    1  0004241202206655  195.692898 -1.066118    0.166418    19.209494   \n",
       "4  5335    0  0004241202201469  195.706372 -1.071385    0.186656    20.317308   \n",
       "\n",
       "   bestmedianmag  medianmag    meanmag  nbestobs  ngoodobs  \n",
       "0      20.637121  20.637121  20.637121         2         2  \n",
       "1      16.977032  16.976179  16.970150        21        24  \n",
       "2      19.702240  19.714390  19.731030        19        21  \n",
       "3      19.247002  19.246765  19.214813        19        22  \n",
       "4      20.231001  20.260391  20.315016        11        12  "
      ]
     },
     "execution_count": 10,
     "metadata": {},
     "output_type": "execute_result"
    }
   ],
   "source": [
    "t[:5]"
   ]
  },
  {
   "cell_type": "code",
   "execution_count": 9,
   "metadata": {},
   "outputs": [],
   "source": [
    "from astropy.table import Table\n",
    "\n",
    "File = 'DB_QSO_S82.dat'\n",
    "colnames = ['dbID', 'ra', 'dec', 'SDR5ID', 'M_i', 'M_i_corr', 'redshift',\n",
    "                   'mass_BH', 'Lbol', 'u', 'g', 'r', 'i', 'z', 'Au']\n",
    "dbqso = Table.read(File, format='ascii', names = colnames)"
   ]
  },
  {
   "cell_type": "code",
   "execution_count": 14,
   "metadata": {},
   "outputs": [
    {
     "data": {
      "image/png": "[encoded data removed]",
      "text/plain": [
       "<Figure size 432x288 with 1 Axes>"
      ]
     },
     "metadata": {},
     "output_type": "display_data"
    }
   ],
   "source": [
    "%matplotlib inline\n",
    "import matplotlib.pyplot as plt \n",
    "plt.scatter(dbqso['ra'], dbqso['dec'], s=0.1, label='sdss')\n",
    "plt.scatter(t['ra'], t['dec'], s=0.01, label='ztf')\n",
    "plt.xlabel('ra')\n",
    "plt.ylabel('dec')\n",
    "lgnd = plt.legend()\n",
    "lgnd.legendHandles[0]._sizes = [30]\n",
    "lgnd.legendHandles[1]._sizes = [30]\n",
    "plt.savefig('ztf_1am_lc_vs_sdss_dr9_qso_s82_190301.png', bbox_inches='tight', dpi=150)"
   ]
  },
  {
   "cell_type": "code",
   "execution_count": null,
   "metadata": {},
   "outputs": [],
   "source": [
    "pwd"
   ]
  },
  {
   "cell_type": "code",
   "execution_count": null,
   "metadata": {},
   "outputs": [],
   "source": []
  }
 ],
 "metadata": {
  "kernelspec": {
   "display_name": "Python 3-AXS Spark",
   "language": "python",
   "name": "spark-smj"
  },
  "language_info": {
   "codemirror_mode": {
    "name": "ipython",
    "version": 3
   },
   "file_extension": ".py",
   "mimetype": "text/x-python",
   "name": "python",
   "nbconvert_exporter": "python",
   "pygments_lexer": "ipython3",
   "version": "3.6.8"
  }
 },
 "nbformat": 4,
 "nbformat_minor": 2
}
